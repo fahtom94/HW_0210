{
  "nbformat": 4,
  "nbformat_minor": 0,
  "metadata": {
    "colab": {
      "provenance": [],
      "authorship_tag": "ABX9TyP3oI+WXTJJU6vHirt5O23u",
      "include_colab_link": true
    },
    "kernelspec": {
      "name": "python3",
      "display_name": "Python 3"
    },
    "language_info": {
      "name": "python"
    }
  },
  "cells": [
    {
      "cell_type": "markdown",
      "metadata": {
        "id": "view-in-github",
        "colab_type": "text"
      },
      "source": [
        "<a href=\"https://colab.research.google.com/github/fahtom94/HW_0210/blob/main/HW_0210.ipynb\" target=\"_parent\"><img src=\"https://colab.research.google.com/assets/colab-badge.svg\" alt=\"Open In Colab\"/></a>"
      ]
    },
    {
      "cell_type": "code",
      "source": [
        "!pip install -q -U kaggle_environments"
      ],
      "metadata": {
        "colab": {
          "base_uri": "https://localhost:8080/"
        },
        "id": "SmgNtMpysQvV",
        "outputId": "ada76d54-c00f-4dd4-f6bc-063d71f91baa"
      },
      "execution_count": 2,
      "outputs": [
        {
          "output_type": "stream",
          "name": "stdout",
          "text": [
            "\u001b[K     |████████████████████████████████| 1.9 MB 5.3 MB/s \n",
            "\u001b[K     |████████████████████████████████| 62 kB 1.3 MB/s \n",
            "\u001b[?25h"
          ]
        }
      ]
    },
    {
      "cell_type": "code",
      "source": [
        "%%writefile copy_opponent.py\n",
        "\n",
        "import random\n",
        "\n",
        "\n",
        "def copy_opponent(observation, configuration):\n",
        "    # in case we have information about opponent last move\n",
        "    if observation.step > 0:\n",
        "        return observation.lastOpponentAction\n",
        "    # initial step\n",
        "    else:\n",
        "        return random.randrange(0, configuration.signs)\n"
      ],
      "metadata": {
        "colab": {
          "base_uri": "https://localhost:8080/"
        },
        "id": "XcysRqKCuDqV",
        "outputId": "bdb415e5-c086-4ddf-956a-05767d180490"
      },
      "execution_count": 5,
      "outputs": [
        {
          "output_type": "stream",
          "name": "stdout",
          "text": [
            "Writing copy_opponent.py\n"
          ]
        }
      ]
    },
    {
      "cell_type": "code",
      "source": [
        "%%writefile paper_agent.py\n",
        "\n",
        "def paper_agent(observation, configuration):\n",
        "    return 1\n"
      ],
      "metadata": {
        "colab": {
          "base_uri": "https://localhost:8080/"
        },
        "id": "CwzfQCcauHnB",
        "outputId": "c51adea6-b19d-49e9-ebdc-bbff198d4ecd"
      },
      "execution_count": 6,
      "outputs": [
        {
          "output_type": "stream",
          "name": "stdout",
          "text": [
            "Writing paper_agent.py\n"
          ]
        }
      ]
    },
    {
      "cell_type": "code",
      "source": [
        "%%writefile random_agent.py\n",
        "\n",
        "import random\n",
        "\n",
        "\n",
        "def random_agent(observation, configuration):\n",
        "    return random.randrange(0, configuration.signs)\n",
        "\n",
        "\n"
      ],
      "metadata": {
        "colab": {
          "base_uri": "https://localhost:8080/"
        },
        "id": "UqeLBnR5t4bK",
        "outputId": "9afa1724-f98a-4d67-cd30-d24f08d5adcf"
      },
      "execution_count": 7,
      "outputs": [
        {
          "output_type": "stream",
          "name": "stdout",
          "text": [
            "Writing random_agent.py\n"
          ]
        }
      ]
    },
    {
      "cell_type": "code",
      "source": [
        "%%writefile random_agent_repeat_action_if_won.py\n",
        "\n",
        "import random\n",
        "\n",
        "\n",
        "def random_agent_repeat_action_if_won(observation, configuration):\n",
        "    observation.step\n",
        "    return random.randrange(0, configuration.signs)"
      ],
      "metadata": {
        "colab": {
          "base_uri": "https://localhost:8080/"
        },
        "id": "z9H7SBXSudur",
        "outputId": "39547bf4-c93b-460e-e5a9-26dccd0920e8"
      },
      "execution_count": 8,
      "outputs": [
        {
          "output_type": "stream",
          "name": "stdout",
          "text": [
            "Writing random_agent_repeat_action_if_won.py\n"
          ]
        }
      ]
    },
    {
      "cell_type": "code",
      "source": [
        "%%writefile repeat_action_if_equal_last_lap_agent.py\n",
        "\n",
        "import random\n",
        "from kaggle_environments.envs.rps.utils import get_score\n",
        "\n",
        "last_react_action = None\n",
        "\n",
        "\n",
        "def repeat_action_if_equal_last_lap_agent(observation, configuration):\n",
        "    global last_react_action\n",
        "    if observation.step == 0:\n",
        "        last_react_action = random.randrange(0, configuration.signs)\n",
        "    elif get_score(last_react_action, observation.lastOpponentAction) == 0:\n",
        "        pass\n",
        "    else:\n",
        "        last_react_action = random.randrange(0, configuration.signs)\n",
        "\n",
        "    return last_react_action\n"
      ],
      "metadata": {
        "colab": {
          "base_uri": "https://localhost:8080/"
        },
        "id": "KkVX-7aiujES",
        "outputId": "195c425b-4fb6-4ff6-9b00-00f6d2bb22a5"
      },
      "execution_count": 10,
      "outputs": [
        {
          "output_type": "stream",
          "name": "stdout",
          "text": [
            "Writing repeat_action_if_equal_last_lap_agent.py\n"
          ]
        }
      ]
    },
    {
      "cell_type": "code",
      "source": [
        "%%writefile repeat_action_if_lose_last_lap_agent.py\n",
        "\n",
        "import random\n",
        "from kaggle_environments.envs.rps.utils import get_score\n",
        "\n",
        "last_react_action = None\n",
        "def repeat_action_if_lose_last_lap_agent(observation, configuration):\n",
        "    global last_react_action\n",
        "    if observation.step == 0:\n",
        "        last_react_action = random.randrange(0, configuration.signs)\n",
        "    elif get_score(last_react_action, observation.lastOpponentAction) == -1:\n",
        "        pass\n",
        "    else:\n",
        "        last_react_action = random.randrange(0, configuration.signs)\n",
        "\n",
        "    return last_react_action\n"
      ],
      "metadata": {
        "colab": {
          "base_uri": "https://localhost:8080/"
        },
        "id": "9pGRpWUounA6",
        "outputId": "aac57773-81cc-4072-9ee8-ba423bb062a5"
      },
      "execution_count": 11,
      "outputs": [
        {
          "output_type": "stream",
          "name": "stdout",
          "text": [
            "Writing repeat_action_if_lose_last_lap_agent.py\n"
          ]
        }
      ]
    },
    {
      "cell_type": "code",
      "source": [
        "%%writefile repeat_action_if_won_last_lap_agent.py\n",
        "\n",
        "import random\n",
        "from kaggle_environments.envs.rps.utils import get_score\n",
        "\n",
        "last_react_action = None\n",
        "\n",
        "\n",
        "def repeat_action_if_won_last_lap_agent(observation, configuration):\n",
        "    global last_react_action\n",
        "    if observation.step == 0:\n",
        "        last_react_action = random.randrange(0, configuration.signs)\n",
        "    elif get_score(last_react_action, observation.lastOpponentAction) == 1:\n",
        "        pass\n",
        "    else:\n",
        "        last_react_action = random.randrange(0, configuration.signs)\n",
        "\n",
        "    return last_react_action\n"
      ],
      "metadata": {
        "colab": {
          "base_uri": "https://localhost:8080/"
        },
        "id": "rPuIZmduu9nX",
        "outputId": "5b7a3171-e8b5-4e33-d3b0-a05289941974"
      },
      "execution_count": 12,
      "outputs": [
        {
          "output_type": "stream",
          "name": "stdout",
          "text": [
            "Writing repeat_action_if_won_last_lap_agent.py\n"
          ]
        }
      ]
    },
    {
      "cell_type": "code",
      "source": [
        "%%writefile rock_agent.py\n",
        "\n",
        "def rock_agent(observation, configuration):\n",
        "    return 0\n",
        "\n"
      ],
      "metadata": {
        "colab": {
          "base_uri": "https://localhost:8080/"
        },
        "id": "irvx7zXJvB8H",
        "outputId": "8973aa56-9d83-420a-b0c9-0d5ae3052ae9"
      },
      "execution_count": 13,
      "outputs": [
        {
          "output_type": "stream",
          "name": "stdout",
          "text": [
            "Writing rock_agent.py\n"
          ]
        }
      ]
    },
    {
      "cell_type": "code",
      "source": [
        "%%writefile scissors_agent.py\n",
        "\n",
        "\n",
        "def scissors_agent(observation, configuration):\n",
        "    return 2\n"
      ],
      "metadata": {
        "colab": {
          "base_uri": "https://localhost:8080/"
        },
        "id": "USIzcU49vFiu",
        "outputId": "ce47272e-2b9e-456a-a425-d977ed0dd555"
      },
      "execution_count": 14,
      "outputs": [
        {
          "output_type": "stream",
          "name": "stdout",
          "text": [
            "Writing scissors_agent.py\n"
          ]
        }
      ]
    },
    {
      "cell_type": "code",
      "source": [
        "%%writefile linear_agent.py\n",
        "\n",
        "import random\n",
        "from kaggle_environments.envs.rps.utils import get_score\n",
        "\n",
        "last_react_action = None\n",
        "\n",
        "\n",
        "def linear_agent(observation, configuration):\n",
        "    global last_react_action\n",
        "    if observation.step == 0:\n",
        "        last_react_action = random.randrange(0, configuration.signs)\n",
        "    elif get_score(last_react_action, observation.lastOpponentAction) <= -1:\n",
        "        last_react_action = (last_react_action + 1) % 3\n",
        "    return last_react_action\n"
      ],
      "metadata": {
        "colab": {
          "base_uri": "https://localhost:8080/"
        },
        "id": "c0QwLVmqvJBk",
        "outputId": "fddaaf1d-7025-4dda-cff5-1633fa5b239e"
      },
      "execution_count": 15,
      "outputs": [
        {
          "output_type": "stream",
          "name": "stdout",
          "text": [
            "Writing linear_agent.py\n"
          ]
        }
      ]
    },
    {
      "cell_type": "code",
      "source": [
        "%%writefile statistical.py\n",
        "\n",
        "action_histogram = {}\n",
        "\n",
        "\n",
        "def statistical(observation, configuration):\n",
        "    global action_histogram\n",
        "    if observation.step == 0:\n",
        "        action_histogram = {}\n",
        "        return\n",
        "    action = observation.lastOpponentAction\n",
        "    if action not in action_histogram:\n",
        "        action_histogram[action] = 0\n",
        "    action_histogram[action] += 1\n",
        "    mode_action = None\n",
        "    mode_action_count = None\n",
        "    for k, v in action_histogram.items():\n",
        "        if mode_action_count is None or v > mode_action_count:\n",
        "            mode_action = k\n",
        "            mode_action_count = v\n",
        "            continue\n",
        "\n",
        "    return (mode_action + 1) % configuration.signs\n"
      ],
      "metadata": {
        "colab": {
          "base_uri": "https://localhost:8080/"
        },
        "id": "ukJ2C5VDvL4q",
        "outputId": "a2d42117-0ee9-4367-8c57-105af79a4819"
      },
      "execution_count": 16,
      "outputs": [
        {
          "output_type": "stream",
          "name": "stdout",
          "text": [
            "Writing statistical.py\n"
          ]
        }
      ]
    },
    {
      "cell_type": "code",
      "source": [
        "%%writefile linear_won_agent.py\n",
        "\n",
        "import random\n",
        "from kaggle_environments.envs.rps.utils import get_score\n",
        "\n",
        "last_react_action = None\n",
        "\n",
        "\n",
        "def linear_won_agent(observation, configuration):\n",
        "    global last_react_action\n",
        "    if observation.step == 0:\n",
        "        last_react_action = random.randrange(0, configuration.signs)\n",
        "    elif get_score(last_react_action, observation.lastOpponentAction) == 1:\n",
        "        last_react_action = (last_react_action + 1) % 3\n",
        "    return last_react_action\n"
      ],
      "metadata": {
        "colab": {
          "base_uri": "https://localhost:8080/"
        },
        "id": "p8yguE9vvPCv",
        "outputId": "52a22ade-2d29-49b4-b657-9f771be4684f"
      },
      "execution_count": 17,
      "outputs": [
        {
          "output_type": "stream",
          "name": "stdout",
          "text": [
            "Writing linear_won_agent.py\n"
          ]
        }
      ]
    },
    {
      "cell_type": "code",
      "source": [
        "import numpy as np\n",
        "import pandas as pd\n",
        "import random\n",
        "\n",
        "import matplotlib.pyplot as plt\n",
        "import seaborn as sns\n",
        "\n",
        "from kaggle_environments import evaluate\n",
        "\n",
        "\n",
        "list_names = [\n",
        "    \"copy_opponent\",\n",
        "    \"linear_agent\",\n",
        "    \"linear_won_agent\",\n",
        "    \"paper_agent\",\n",
        "    \"random_agent\",\n",
        "    \"random_agent_repeat_action_if_won\",\n",
        "    \"repeat_action_if_equal_last_lap_agent\",\n",
        "    \"repeat_action_if_lose_last_lap_agent\",\n",
        "    \"repeat_action_if_won_last_lap_agent\",\n",
        "    \"rock_agent\",\n",
        "    \"scissors_agent\",\n",
        "    \"statistical\"\n",
        "]\n",
        "list_agents = [agent_name + \".py\" for agent_name in list_names]\n",
        "\n",
        "n_agents = len(list_names)\n",
        "\n",
        "scores = np.zeros((n_agents, n_agents), dtype=np.int)\n",
        "\n",
        "print(\"Simulation of battles. It can take some time...\")\n",
        "\n",
        "for idx_agent_1 in range(len(list_names)):\n",
        "    for idx_agent_2 in range(idx_agent_1 + 1, len(list_names)):\n",
        "        print(\n",
        "            f\"LOG: {list_names[idx_agent_1]} vs {list_names[idx_agent_2]}\",\n",
        "            end=\"\\r\"\n",
        "        )\n",
        "\n",
        "        current_score = evaluate(\n",
        "            \"rps\",\n",
        "            [list_agents[idx_agent_1], list_agents[idx_agent_2]],\n",
        "            configuration={\"episodeSteps\": 1000}\n",
        "        )\n",
        "\n",
        "        scores[idx_agent_1, idx_agent_2] = current_score[0][0]\n",
        "        scores[idx_agent_2, idx_agent_1] = current_score[0][1]\n",
        "\n",
        "    print()\n",
        "\n",
        "results = {}\n",
        "for idx_agent_1 in range(len(list_names)):\n",
        "    win_result = 0\n",
        "    for idx_agent_2 in range(len(list_names)):\n",
        "        win_result += scores[idx_agent_1][idx_agent_2]\n",
        "    results[list_names[idx_agent_1]] = win_result\n",
        "\n",
        "print(\"All Results: {}\", results)\n",
        "\n",
        "key_max_val = None\n",
        "max_val = None\n",
        "for key, value in results.items():\n",
        "    if max_val is None:\n",
        "        max_val = value\n",
        "        key_max_val = key\n",
        "    elif value > max_val:\n",
        "        max_val = value\n",
        "        key_max_val = key\n",
        "\n",
        "print(\"The best agent name: {} with score: {}\".format(key_max_val, max_val))\n",
        "\n",
        "\n",
        "df_scores = pd.DataFrame(\n",
        "    scores, \n",
        "    index=list_names, \n",
        "    columns=list_names,\n",
        ")\n",
        "\n",
        "\n",
        "plt.figure(figsize=(9, 9))\n",
        "sns.heatmap(\n",
        "    df_scores, annot=True, cbar=False, \n",
        "    cmap='coolwarm', linewidths=1, \n",
        "    linecolor='black', fmt=\"d\",\n",
        ")\n",
        "plt.xticks(rotation=90, fontsize=15)\n",
        "plt.yticks(fontsize=15);\n"
      ],
      "metadata": {
        "colab": {
          "base_uri": "https://localhost:8080/",
          "height": 1000
        },
        "id": "kOYjmA9EvTal",
        "outputId": "2a75ec37-f52f-4cc0-c972-6588a764cafd"
      },
      "execution_count": 20,
      "outputs": [
        {
          "output_type": "stream",
          "name": "stderr",
          "text": [
            "/usr/local/lib/python3.7/dist-packages/ipykernel_launcher.py:29: DeprecationWarning: `np.int` is a deprecated alias for the builtin `int`. To silence this warning, use `int` by itself. Doing this will not modify any behavior and is safe. When replacing `np.int`, you may wish to use e.g. `np.int64` or `np.int32` to specify the precision. If you wish to review your current use, check the release note link for additional information.\n",
            "Deprecated in NumPy 1.20; for more details and guidance: https://numpy.org/devdocs/release/1.20.0-notes.html#deprecations\n"
          ]
        },
        {
          "output_type": "stream",
          "name": "stdout",
          "text": [
            "Simulation of battles. It can take some time...\n",
            "\n",
            "\n",
            "\n",
            "\n",
            "\n",
            "\n",
            "\n",
            "\n",
            "\n",
            "\n",
            "\n",
            "\n",
            "All Results: {} {'copy_opponent': -306, 'linear_agent': 2764, 'linear_won_agent': -4267, 'paper_agent': -998, 'random_agent': 63, 'random_agent_repeat_action_if_won': -66, 'repeat_action_if_equal_last_lap_agent': -184, 'repeat_action_if_lose_last_lap_agent': -5692, 'repeat_action_if_won_last_lap_agent': 5450, 'rock_agent': 35, 'scissors_agent': -1989, 'statistical': 5190}\n",
            "The best agent name: repeat_action_if_won_last_lap_agent with score: 5450\n"
          ]
        },
        {
          "output_type": "display_data",
          "data": {
            "text/plain": [
              "<Figure size 648x648 with 1 Axes>"
            ],
            "image/png": "[encoded data removed]"
          },
          "metadata": {
            "needs_background": "light"
          }
        }
      ]
    },
    {
      "cell_type": "code",
      "source": [],
      "metadata": {
        "id": "PfILdyhrw2fl"
      },
      "execution_count": null,
      "outputs": []
    }
  ]
}